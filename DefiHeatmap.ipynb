{
 "cells": [
  {
   "cell_type": "code",
   "execution_count": 21,
   "metadata": {},
   "outputs": [],
   "source": [
    "import pandas as pd\n",
    "import matplotlib.pyplot as plt\n",
    "from bs4 import BeautifulSoup\n",
    "import requests\n",
    "import seaborn as sns\n",
    "import numpy as np\n",
    "from datetime import datetime,timezone"
   ]
  },
  {
   "cell_type": "code",
   "execution_count": 22,
   "metadata": {},
   "outputs": [],
   "source": [
    "'''URL to scrape'''\n",
    "url = \"https://coinmarketcap.com/defi/\"\n",
    "soup = BeautifulSoup(requests.get(url).content, \"html.parser\")\n",
    "\n",
    "'''Find the rows we need to loop through in the table'''\n",
    "list_coins = soup.select(\".cmc-table-row\")\n",
    "\n",
    "'''COINS_DB will be where we store our results for later'''\n",
    "coins_db = []\n",
    "\n",
    "'''Process each row of the table and append the data objects to our COINS_DB list'''\n",
    "for row in list_coins:\n",
    "    rank = len(coins_db)+1\n",
    "    name = row.select(\".cmc-table__cell--sort-by__name\")[0].find(\"a\").string\n",
    "    ticker =  row.select(\".cmc-table__cell--sort-by__circulating-supply\")[0].find(\"div\").string.split(\" \")[1]\n",
    "    market_cap = row.select(\".cmc-table__cell--sort-by__market-cap\")[0].find(\"p\").string\n",
    "    price = row.select(\".cmc-table__cell--sort-by__price\")[0].find(\"a\").string\n",
    "    vol_24h = row.select(\".cmc-table__cell--sort-by__volume-24-h\")[0].find(\"a\").string\n",
    "    circ_supply = row.select(\".cmc-table__cell--sort-by__circulating-supply\")[0].find(\"div\").string\n",
    "    change_24h = row.select(\".cmc-table__cell--sort-by__percent-change-24-h\")[0].find(\"div\").string\n",
    "    coin_obj = {'rank':rank,'name': name,'ticker':ticker, 'market_cap': market_cap, 'price': price, '24h_vol': vol_24h,\n",
    "                'circ_supply': circ_supply, '24h_change': change_24h}\n",
    "    coins_db.append(coin_obj)\n",
    "    \n",
    "'''Create dataframe with our object, format the % change column, return top 50, and sort the remaining rows by the % change'''\n",
    "df = pd.DataFrame(coins_db)\n",
    "df['24h_change'] = df['24h_change'].apply(lambda s: float(s[:len(s)-1]))\n",
    "df = df.head(50)\n",
    "df.sort_values(by=['24h_change'], ascending=False, inplace=True)\n"
   ]
  },
  {
   "cell_type": "code",
   "execution_count": null,
   "metadata": {},
   "outputs": [],
   "source": [
    "\n",
    "'''Row/Col are the dimensions of our heatmap, source is a copy of our dataframe'''\n",
    "row = 10\n",
    "col = 5\n",
    "source = df\n",
    "\n",
    "'''Create reshaped array of rank, ticker symbols, and percentage change that matches the desired shape of the heatmap'''\n",
    "rank  = ((np.asarray(source['rank']))).reshape(row,col)\n",
    "symbol = ((np.asarray(source['ticker']))).reshape(row,col)\n",
    "per_change = ((np.asarray(source['24h_change']))).reshape(row,col)\n",
    "\n",
    "'''Create reshaped array of labels using the above numpy arrays'''\n",
    "labels = (np.asarray([\"#{0} \\n {1} \\n {2:.2f}%\".format(r,sym, pchg)\n",
    "                      for r, sym, pchg in zip(rank.flatten(),symbol.flatten(),\n",
    "                                               per_change.flatten())])).reshape(row,col)\n",
    "'''Configure plot'''\n",
    "plt.rcParams['figure.dpi'] = 240\n",
    "fig, ax = plt.subplots(figsize=(15,10))\n",
    "plt.title('DeFi Top {} - {} UTC'.format(source.shape[0],datetime.utcnow().strftime(\"%m/%d/%Y %H:%M\")),fontsize=18,color=\"#ffffff\")\n",
    "plt.axis('off')\n",
    "ax.title.set_position([0.5,1.05])\n",
    "\n",
    "'''Create heatmap'''\n",
    "sns.heatmap(per_change, annot=labels, fmt=\"\", cmap='RdYlGn', vmin=-10, vmax=10, ax = ax,cbar=False)\n",
    "plt.show()"
   ]
  },
  {
   "cell_type": "code",
   "execution_count": null,
   "metadata": {},
   "outputs": [],
   "source": []
  }
 ],
 "metadata": {
  "kernelspec": {
   "display_name": "Python 3",
   "language": "python",
   "name": "python3"
  },
  "language_info": {
   "codemirror_mode": {
    "name": "ipython",
    "version": 3
   },
   "file_extension": ".py",
   "mimetype": "text/x-python",
   "name": "python",
   "nbconvert_exporter": "python",
   "pygments_lexer": "ipython3",
   "version": "3.7.6"
  }
 },
 "nbformat": 4,
 "nbformat_minor": 4
}
