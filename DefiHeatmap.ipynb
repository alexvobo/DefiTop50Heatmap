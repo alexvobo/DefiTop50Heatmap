{
 "cells": [
  {
   "cell_type": "code",
   "execution_count": 2,
   "metadata": {},
   "outputs": [],
   "source": [
    "import pandas as pd\n",
    "import altair as alt\n",
    "from bs4 import BeautifulSoup\n",
    "import requests\n"
   ]
  },
  {
   "cell_type": "code",
   "execution_count": 4,
   "metadata": {},
   "outputs": [],
   "source": [
    "#https://coinmarketcap.com/defi/"
   ]
  },
  {
   "cell_type": "code",
   "execution_count": null,
   "metadata": {},
   "outputs": [],
   "source": []
  },
  {
   "cell_type": "code",
   "execution_count": null,
   "metadata": {},
   "outputs": [],
   "source": [
    "source = data.cars()\n",
    "\n",
    "# Configure common options\n",
    "base = alt.Chart(source).transform_aggregate(\n",
    "    num_cars='count()',\n",
    "    groupby=['Origin', 'Cylinders']\n",
    ").encode(\n",
    "    alt.X('Cylinders:O', scale=alt.Scale(paddingInner=0)),\n",
    "    alt.Y('Origin:O', scale=alt.Scale(paddingInner=0)),\n",
    ")\n",
    "\n",
    "# Configure heatmap\n",
    "heatmap = base.mark_rect().encode(\n",
    "    color=alt.Color('num_cars:Q',\n",
    "        scale=alt.Scale(scheme='viridis'),\n",
    "        legend=alt.Legend(direction='horizontal')\n",
    "    )\n",
    ")\n",
    "\n",
    "# Configure text\n",
    "text = base.mark_text(baseline='middle').encode(\n",
    "    text='num_cars:Q',\n",
    "    color=alt.condition(\n",
    "        alt.datum.num_cars > 100,\n",
    "        alt.value('black'),\n",
    "        alt.value('white')\n",
    "    )\n",
    ")\n",
    "\n",
    "# Draw the chart\n",
    "heatmap + text"
   ]
  }
 ],
 "metadata": {
  "kernelspec": {
   "display_name": "Python 3",
   "language": "python",
   "name": "python3"
  },
  "language_info": {
   "codemirror_mode": {
    "name": "ipython",
    "version": 3
   },
   "file_extension": ".py",
   "mimetype": "text/x-python",
   "name": "python",
   "nbconvert_exporter": "python",
   "pygments_lexer": "ipython3",
   "version": "3.7.6"
  }
 },
 "nbformat": 4,
 "nbformat_minor": 4
}
